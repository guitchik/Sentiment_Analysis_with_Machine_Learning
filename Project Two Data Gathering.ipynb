{
 "cells": [
  {
   "cell_type": "code",
   "execution_count": 1,
   "id": "dd2319b3-dca6-4c8f-9c8c-4053e7ead0ed",
   "metadata": {},
   "outputs": [],
   "source": [
    "import pandas as pd\n",
    "from dotenv import load_dotenv\n",
    "import alpaca_trade_api as tradeapi\n",
    "import os\n",
    "import requests"
   ]
  },
  {
   "cell_type": "code",
   "execution_count": 2,
   "id": "a166500e-93d8-4ed6-b9a2-91de33f363f8",
   "metadata": {},
   "outputs": [
    {
     "data": {
      "text/plain": [
       "True"
      ]
     },
     "execution_count": 2,
     "metadata": {},
     "output_type": "execute_result"
    }
   ],
   "source": [
    "load_dotenv()"
   ]
  },
  {
   "cell_type": "code",
   "execution_count": 11,
   "id": "9750c12f-5e66-4141-aa4c-5d2332654de7",
   "metadata": {},
   "outputs": [
    {
     "data": {
      "text/plain": [
       "'/Users/taylorlittle/Documents/Bootcamp'"
      ]
     },
     "execution_count": 11,
     "metadata": {},
     "output_type": "execute_result"
    }
   ],
   "source": [
    "os.getcwd()"
   ]
  },
  {
   "cell_type": "code",
   "execution_count": 4,
   "id": "1358663a-7cfa-440e-8972-1faef1d7c3a1",
   "metadata": {},
   "outputs": [],
   "source": [
    "alpaca_api_key = os.getenv(\"ALPACA_API_KEY\")\n",
    "alpaca_secret_key = os.getenv(\"ALPACA_SECRET_KEY\")\n",
    "# alpaca_api_key = 'PKPFUAK8S90Y1NPMPL7E'\n",
    "# alpaca_secret_key = 'vedkRNeU9nDHkPE1CBQTmwdYIpUDE1GKNLLVUuai'"
   ]
  },
  {
   "cell_type": "code",
   "execution_count": 5,
   "id": "c18a4f05-5770-4cf1-add3-d3b960a4b11b",
   "metadata": {},
   "outputs": [],
   "source": [
    "alpaca = tradeapi.REST(\n",
    "    alpaca_api_key,\n",
    "    alpaca_secret_key,\n",
    "    api_version=\"v2\")"
   ]
  },
  {
   "cell_type": "code",
   "execution_count": 6,
   "id": "d11d0ab0-c3e5-4e8d-bbb6-41a9366a1751",
   "metadata": {},
   "outputs": [],
   "source": [
    "ticker = 'ADD'"
   ]
  },
  {
   "cell_type": "code",
   "execution_count": 7,
   "id": "879c9c97-ff3f-42f9-a364-1c2413fd1328",
   "metadata": {},
   "outputs": [],
   "source": [
    "start_date = pd.Timestamp(\"2023-04-06\", tz=\"America/New_York\").isoformat()\n",
    "end_date = pd.Timestamp(\"2023-04-13\", tz=\"America/New_York\").isoformat()\n",
    "timeframe = \"1Day\""
   ]
  },
  {
   "cell_type": "code",
   "execution_count": 9,
   "id": "19569d2b-fcd4-4ad5-a4bc-088e4b4ee62c",
   "metadata": {},
   "outputs": [],
   "source": [
    "df_portfolio = alpaca.get_bars(\n",
    "    ticker,\n",
    "    timeframe,\n",
    "    start = start_date,\n",
    "    end = end_date\n",
    ").df"
   ]
  },
  {
   "cell_type": "code",
   "execution_count": 10,
   "id": "a213d7f4-0ea5-4c63-8e67-3c03019826e3",
   "metadata": {},
   "outputs": [
    {
     "data": {
      "text/html": [
       "<div>\n",
       "<style scoped>\n",
       "    .dataframe tbody tr th:only-of-type {\n",
       "        vertical-align: middle;\n",
       "    }\n",
       "\n",
       "    .dataframe tbody tr th {\n",
       "        vertical-align: top;\n",
       "    }\n",
       "\n",
       "    .dataframe thead th {\n",
       "        text-align: right;\n",
       "    }\n",
       "</style>\n",
       "<table border=\"1\" class=\"dataframe\">\n",
       "  <thead>\n",
       "    <tr style=\"text-align: right;\">\n",
       "      <th></th>\n",
       "      <th>open</th>\n",
       "      <th>high</th>\n",
       "      <th>low</th>\n",
       "      <th>close</th>\n",
       "      <th>volume</th>\n",
       "      <th>trade_count</th>\n",
       "      <th>vwap</th>\n",
       "    </tr>\n",
       "    <tr>\n",
       "      <th>timestamp</th>\n",
       "      <th></th>\n",
       "      <th></th>\n",
       "      <th></th>\n",
       "      <th></th>\n",
       "      <th></th>\n",
       "      <th></th>\n",
       "      <th></th>\n",
       "    </tr>\n",
       "  </thead>\n",
       "  <tbody>\n",
       "    <tr>\n",
       "      <th>2023-04-06 04:00:00+00:00</th>\n",
       "      <td>1.85</td>\n",
       "      <td>1.8785</td>\n",
       "      <td>1.81</td>\n",
       "      <td>1.8600</td>\n",
       "      <td>62023</td>\n",
       "      <td>242</td>\n",
       "      <td>1.846430</td>\n",
       "    </tr>\n",
       "    <tr>\n",
       "      <th>2023-04-10 04:00:00+00:00</th>\n",
       "      <td>1.83</td>\n",
       "      <td>2.0000</td>\n",
       "      <td>1.83</td>\n",
       "      <td>1.9343</td>\n",
       "      <td>67084</td>\n",
       "      <td>468</td>\n",
       "      <td>1.928132</td>\n",
       "    </tr>\n",
       "    <tr>\n",
       "      <th>2023-04-11 04:00:00+00:00</th>\n",
       "      <td>1.98</td>\n",
       "      <td>2.0000</td>\n",
       "      <td>1.91</td>\n",
       "      <td>1.9900</td>\n",
       "      <td>42481</td>\n",
       "      <td>263</td>\n",
       "      <td>1.967191</td>\n",
       "    </tr>\n",
       "    <tr>\n",
       "      <th>2023-04-12 04:00:00+00:00</th>\n",
       "      <td>2.04</td>\n",
       "      <td>2.0800</td>\n",
       "      <td>1.92</td>\n",
       "      <td>1.9300</td>\n",
       "      <td>76748</td>\n",
       "      <td>430</td>\n",
       "      <td>2.000411</td>\n",
       "    </tr>\n",
       "    <tr>\n",
       "      <th>2023-04-13 04:00:00+00:00</th>\n",
       "      <td>1.98</td>\n",
       "      <td>2.0801</td>\n",
       "      <td>1.98</td>\n",
       "      <td>2.0700</td>\n",
       "      <td>25804</td>\n",
       "      <td>233</td>\n",
       "      <td>2.046312</td>\n",
       "    </tr>\n",
       "  </tbody>\n",
       "</table>\n",
       "</div>"
      ],
      "text/plain": [
       "                           open    high   low   close  volume  trade_count  \\\n",
       "timestamp                                                                    \n",
       "2023-04-06 04:00:00+00:00  1.85  1.8785  1.81  1.8600   62023          242   \n",
       "2023-04-10 04:00:00+00:00  1.83  2.0000  1.83  1.9343   67084          468   \n",
       "2023-04-11 04:00:00+00:00  1.98  2.0000  1.91  1.9900   42481          263   \n",
       "2023-04-12 04:00:00+00:00  2.04  2.0800  1.92  1.9300   76748          430   \n",
       "2023-04-13 04:00:00+00:00  1.98  2.0801  1.98  2.0700   25804          233   \n",
       "\n",
       "                               vwap  \n",
       "timestamp                            \n",
       "2023-04-06 04:00:00+00:00  1.846430  \n",
       "2023-04-10 04:00:00+00:00  1.928132  \n",
       "2023-04-11 04:00:00+00:00  1.967191  \n",
       "2023-04-12 04:00:00+00:00  2.000411  \n",
       "2023-04-13 04:00:00+00:00  2.046312  "
      ]
     },
     "execution_count": 10,
     "metadata": {},
     "output_type": "execute_result"
    }
   ],
   "source": [
    "df_portfolio"
   ]
  },
  {
   "cell_type": "code",
   "execution_count": null,
   "id": "a0c10d0e-ced8-41bb-aa1e-59dcf239d2a2",
   "metadata": {},
   "outputs": [],
   "source": [
    "#scrape data from Reddit"
   ]
  },
  {
   "cell_type": "code",
   "execution_count": null,
   "id": "ba10be4d-b5b0-4941-91c4-acaa7446253d",
   "metadata": {},
   "outputs": [],
   "source": []
  }
 ],
 "metadata": {
  "kernelspec": {
   "display_name": "Python 3 (ipykernel)",
   "language": "python",
   "name": "python3"
  },
  "language_info": {
   "codemirror_mode": {
    "name": "ipython",
    "version": 3
   },
   "file_extension": ".py",
   "mimetype": "text/x-python",
   "name": "python",
   "nbconvert_exporter": "python",
   "pygments_lexer": "ipython3",
   "version": "3.7.13"
  }
 },
 "nbformat": 4,
 "nbformat_minor": 5
}
